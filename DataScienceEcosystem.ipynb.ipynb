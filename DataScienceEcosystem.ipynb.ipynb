{
 "cells": [
  {
   "cell_type": "markdown",
   "id": "64bbb962-a32c-4037-9c32-63e0f94ecbb9",
   "metadata": {
    "tags": []
   },
   "source": [
    "# Data Science Tools and Ecosystem"
   ]
  },
  {
   "cell_type": "markdown",
   "id": "79c7fc2b-6bd7-47d3-8cbc-a2816450e383",
   "metadata": {
    "tags": []
   },
   "source": [
    "**In this notebook, Data Science Tools and Ecosystem are summarized.**"
   ]
  },
  {
   "cell_type": "markdown",
   "id": "c7804a85-9907-4e69-89ab-d47518eafa92",
   "metadata": {},
   "source": [
    "**Objectives:**\n",
    "- List popular languages for Data Science\n",
    "- List of Data Science Task Categories\n",
    "- List of Commercial tools for Data Science\n",
    "- List of Open Source tools for Data Science\n",
    "- List of Cloud Based tools for Data Science"
   ]
  },
  {
   "cell_type": "markdown",
   "id": "eedef942-5f5e-4c6f-9c7a-e0f91cfbf2fc",
   "metadata": {},
   "source": [
    "Some of the popular languages that Data Scientists use are:\n",
    "1. Python\n",
    "2. R\n",
    "3. SQL\n",
    "4. Scala\n",
    "5. Java\n",
    "6. C++\n",
    "7. Julia\n",
    "    "
   ]
  },
  {
   "cell_type": "markdown",
   "id": "bc795fe0-dff5-49fc-aedc-eac1f6b0cc35",
   "metadata": {},
   "source": [
    "Some of the commonly used libraries used by Data Scientists include:\n",
    "1. Scientific Computing Libraries in Python\n",
    "2. Visualization Libraries in python\n",
    "3. High-Level-Machine Learning And Deap Learning\n",
    "4. Deep Learning Libraries in Python\n",
    "5. Libraries used in other Languages"
   ]
  },
  {
   "cell_type": "markdown",
   "id": "e7e1f454-7de8-4027-beed-3e15b2d3f5bd",
   "metadata": {},
   "source": [
    "| Data Science Tools|\n",
    "|-------------------|\n",
    "|Jupyter            |\n",
    "|Jupyter Notebook   |\n",
    "|Jupyter Lab        |\n",
    "|Apache Zeppelin    |"
   ]
  },
  {
   "cell_type": "markdown",
   "id": "69ba86d4-ce2d-40ba-934e-54e4fcdca83c",
   "metadata": {},
   "source": [
    "### Below are a few examples of evaluating arithmetic expressions in Python"
   ]
  },
  {
   "cell_type": "markdown",
   "id": "c35b52bf-8f6d-4537-a96a-5de175888f7e",
   "metadata": {},
   "source": [
    "This a simple arithmetic expression to mutiply then add integers"
   ]
  },
  {
   "cell_type": "code",
   "execution_count": 3,
   "id": "bbba00f6-29fc-4c78-86ef-c6f2500f015a",
   "metadata": {
    "tags": []
   },
   "outputs": [
    {
     "name": "stdout",
     "output_type": "stream",
     "text": [
      "17\n"
     ]
    }
   ],
   "source": [
    "a=3\n",
    "b=4\n",
    "c=5\n",
    "print((a*b)+c)"
   ]
  },
  {
   "cell_type": "markdown",
   "id": "9e14cc44-b125-42d2-a85d-8f65cf3c6dec",
   "metadata": {},
   "source": [
    "This will convert 200 minutes to hours by diving by 60"
   ]
  },
  {
   "cell_type": "code",
   "execution_count": 4,
   "id": "425d61a0-c0cf-41f5-9ed8-df70b2295919",
   "metadata": {
    "tags": []
   },
   "outputs": [
    {
     "name": "stdout",
     "output_type": "stream",
     "text": [
      "3.3333333333333335\n"
     ]
    }
   ],
   "source": [
    "a=200\n",
    "b=60\n",
    "print(a/b)"
   ]
  },
  {
   "cell_type": "markdown",
   "id": "2b9863a0-8544-4e18-b972-10ae11f2c58b",
   "metadata": {},
   "source": [
    "## Author\n",
    "Umashankar M"
   ]
  },
  {
   "cell_type": "markdown",
   "id": "e828f33d-e35a-4050-bcc2-ca31099da5e7",
   "metadata": {},
   "source": []
  }
 ],
 "metadata": {
  "kernelspec": {
   "display_name": "Python",
   "language": "python",
   "name": "conda-env-python-py"
  },
  "language_info": {
   "codemirror_mode": {
    "name": "ipython",
    "version": 3
   },
   "file_extension": ".py",
   "mimetype": "text/x-python",
   "name": "python",
   "nbconvert_exporter": "python",
   "pygments_lexer": "ipython3",
   "version": "3.7.12"
  }
 },
 "nbformat": 4,
 "nbformat_minor": 5
}
